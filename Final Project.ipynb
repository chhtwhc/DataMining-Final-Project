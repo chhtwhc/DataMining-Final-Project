{
 "cells": [
  {
   "cell_type": "code",
   "execution_count": 1,
   "metadata": {},
   "outputs": [],
   "source": [
    "import pandas as pd\n",
    "from pandas.api.types import CategoricalDtype\n",
    "from sklearn.preprocessing import StandardScaler\n",
    "\n",
    "# Load Data\n",
    "train = pd.read_csv(\"train.csv\", index_col=\"id\")\n",
    "test = pd.read_csv(\"test.csv\", index_col=\"id\")\n",
    "\n",
    "# Function for preprocessing\n",
    "def flightDataPreprocess(trainData, testData, targetCol, dropFirst=True, binDistance=[0, 2400, 5000], binAge=[0, 14, 24, 44, 54, 64, 100]):\n",
    "    \n",
    "    \"\"\"\n",
    "    ## Meaning of parameters\n",
    "    trainData: training data in dataframe\n",
    "    testData: testing data in dataframe\n",
    "    indexCol: column name to use as index of dataframe\n",
    "    targetCol: column name to us as target\n",
    "    dropFirst: drop first column when doing one-hot encoding\n",
    "    binDistance: bin margin of Flight distance when doing k-bins discretization\n",
    "    binAge: bin margin of Age distance when doing k-bins discretization\n",
    "\n",
    "    ## Return variables\n",
    "    trainCopy: training data after pre-processing\n",
    "    testCopy: testing data after pre-processing\n",
    "    trainTarget: targets of training data\n",
    "    testTarget: targets of testing data\n",
    "    \"\"\"\n",
    "\n",
    "    trainCopy = trainData.copy()\n",
    "    testCopy = testData.copy()\n",
    "\n",
    "    trainTarget = trainCopy.loc[:, targetCol]\n",
    "    testTarget = testCopy.loc[:, targetCol]\n",
    "\n",
    "    trainCopy.drop(targetCol, axis=1, inplace=True)\n",
    "    testCopy.drop(targetCol, axis=1, inplace=True)\n",
    "\n",
    "    # Standardize numerical variables\n",
    "    numVar = [\"Departure Delay in Minutes\", \"Arrival Delay in Minutes\"]\n",
    "    trainCopy[numVar] = StandardScaler().fit_transform(trainCopy[numVar])\n",
    "    testCopy[numVar] = StandardScaler().fit_transform(testCopy[numVar])\n",
    "\n",
    "    # Convert categorial variables into ordinal\n",
    "    catVar = [\"Inflight wifi service\", \"Departure/Arrival time convenient\", \"Ease of Online booking\",\\\n",
    "        \"Gate location\", \"Food and drink\", \"Online boarding\", \"Seat comfort\", \"Inflight entertainment\",\\\n",
    "        \"On-board service\", \"Leg room service\", \"Baggage handling\", \"Checkin service\", \"Inflight service\", \"Cleanliness\"]\n",
    "\n",
    "    ptsType = CategoricalDtype(categories=[0, 1, 2, 3, 4, 5], ordered=True)  # Set the order of categories\n",
    "\n",
    "    for var in catVar:\n",
    "        trainCopy[var] = trainCopy[var].astype(ptsType)\n",
    "        testCopy[var] = testCopy[var].astype(ptsType)\n",
    "\n",
    "    # Discretize continuous variables\n",
    "    binA = binAge # Can cutomize the bin edge of Age\n",
    "    binD = binDistance  # Can cutomize the bin edge of Flight Distance\n",
    "\n",
    "    trainCopy[\"Age\"] = pd.cut(trainCopy[\"Age\"], binA)\n",
    "    testCopy[\"Age\"] = pd.cut(testCopy[\"Age\"], binA)\n",
    "\n",
    "    trainCopy[\"Flight Distance\"] = pd.cut(trainCopy[\"Flight Distance\"], binD)\n",
    "    testCopy[\"Flight Distance\"] = pd.cut(testCopy[\"Flight Distance\"], binD)\n",
    "\n",
    "    # One-hot encoding nominal variables\n",
    "    nomiVar = [\"Gender\", \"Customer Type\", \"Type of Travel\", \"Class\"]\n",
    "\n",
    "    trainDummy = pd.get_dummies(trainCopy[nomiVar], drop_first=dropFirst)\n",
    "    trainCopy = trainCopy.merge(trainDummy, left_index=True, right_index=True)\n",
    "    trainCopy.drop(nomiVar, axis=1, inplace=True)\n",
    "\n",
    "\n",
    "    testDummy = pd.get_dummies(testCopy[nomiVar], drop_first=dropFirst)\n",
    "    testCopy = testCopy.merge(testDummy, left_index=True, right_index=True)\n",
    "    testCopy.drop(nomiVar, axis=1, inplace=True)\n",
    "\n",
    "    return trainCopy, testCopy, trainTarget, testTarget\n",
    "\n",
    "# trainFil, testFil, trainTarget, testTarget = flightDataPreprocess(trainData = train, testData = test, targetCol=\"satisfaction\")\n"
   ]
  },
  {
   "cell_type": "code",
   "execution_count": null,
   "metadata": {},
   "outputs": [],
   "source": [
    "thresD = dict()\n",
    "for d in range(500, 4000, 500):\n",
    "    print(d)\n",
    "    trainFilCopy = trainFil.copy()\n",
    "    testFilCopy = testFil.copy()\n",
    "\n",
    "    # Binarize flight distance on different threshold\n",
    "    dist = trainFilCopy.loc[:, \"Flight Distance\"]\n",
    "    binarizer = pre.Binarizer(threshold=d)\n",
    "    distBi = binarizer.transform([dist]).T\n",
    "    trainFilCopy.loc[:, \"Flight Distance\"] = distBi\n",
    "\n",
    "    dist = testFilCopy.loc[:, \"Flight Distance\"]\n",
    "    binarizer = pre.Binarizer(threshold=d)\n",
    "    distBi = binarizer.transform([dist]).T\n",
    "    testFilCopy.loc[:, \"Flight Distance\"] = distBi\n",
    "    \n",
    "    # KNeighborsClassifier\n",
    "    kNeighbor = []\n",
    "    accTrend = []\n",
    "    for n in range(1, 51):\n",
    "        print(n)\n",
    "        knn = KNeighborsClassifier(n_neighbors=n).fit(trainFilCopy, trainTarget)\n",
    "        pred = knn.predict(testFilCopy)\n",
    "        eva = classification_report(y_true=testTarget, y_pred=pred, output_dict=True)\n",
    "        kNeighbor.append(n)\n",
    "        accTrend.append(eva[\"accuracy\"])\n",
    "\n",
    "    dictn = {\"x\":kNeighbor, \"y\":accTrend}\n",
    "    thresD[str(d)] = dictn"
   ]
  },
  {
   "cell_type": "code",
   "execution_count": null,
   "metadata": {},
   "outputs": [],
   "source": [
    "thresD = dict()\n",
    "for d in range(500, 4000, 500):\n",
    "    print(d)\n",
    "    trainFilCopy = trainFil.copy()\n",
    "    testFilCopy = testFil.copy()\n",
    "\n",
    "    # Binarize flight distance on different threshold\n",
    "    dist = trainFilCopy.loc[:, \"Flight Distance\"]\n",
    "    binarizer = pre.Binarizer(threshold=d)\n",
    "    distBi = binarizer.transform([dist]).T\n",
    "    trainFilCopy.loc[:, \"Flight Distance\"] = distBi\n",
    "\n",
    "    dist = testFilCopy.loc[:, \"Flight Distance\"]\n",
    "    binarizer = pre.Binarizer(threshold=d)\n",
    "    distBi = binarizer.transform([dist]).T\n",
    "    testFilCopy.loc[:, \"Flight Distance\"] = distBi\n",
    "    \n",
    "    # KNeighborsClassifier\n",
    "    kNeighbor = []\n",
    "    accTrend = []\n",
    "    for n in range(1, 51):\n",
    "        print(n)\n",
    "        knn = KNeighborsClassifier(n_neighbors=n).fit(trainFilCopy, trainTarget)\n",
    "        pred = knn.predict(testFilCopy)\n",
    "        eva = classification_report(y_true=testTarget, y_pred=pred, output_dict=True)\n",
    "        kNeighbor.append(n)\n",
    "        accTrend.append(eva[\"accuracy\"])\n",
    "\n",
    "    dictn = {\"x\":kNeighbor, \"y\":accTrend}\n",
    "    thresD[str(d)] = dictn"
   ]
  },
  {
   "cell_type": "markdown",
   "metadata": {},
   "source": [
    "### Distance Threshold - KNeighbors - Accuracy"
   ]
  },
  {
   "cell_type": "code",
   "execution_count": 8,
   "metadata": {},
   "outputs": [
    {
     "data": {
      "text/plain": [
       "'\\nthresD = dict()\\nfor d in range(500, 4000, 500):\\n    print(d)\\n    trainFilCopy = trainFil.copy()\\n    testFilCopy = testFil.copy()\\n\\n    # Binarize flight distance on different threshold\\n    dist = trainFilCopy.loc[:, \"Flight Distance\"]\\n    binarizer = pre.Binarizer(threshold=d)\\n    distBi = binarizer.transform([dist]).T\\n    trainFilCopy.loc[:, \"Flight Distance\"] = distBi\\n\\n    dist = testFilCopy.loc[:, \"Flight Distance\"]\\n    binarizer = pre.Binarizer(threshold=d)\\n    distBi = binarizer.transform([dist]).T\\n    testFilCopy.loc[:, \"Flight Distance\"] = distBi\\n    \\n    # KNeighborsClassifier\\n    kNeighbor = []\\n    accTrend = []\\n    for n in range(1, 51):\\n        print(n)\\n        knn = KNeighborsClassifier(n_neighbors=n).fit(trainFilCopy, trainTarget)\\n        pred = knn.predict(testFilCopy)\\n        eva = classification_report(y_true=testTarget, y_pred=pred, output_dict=True)\\n        kNeighbor.append(n)\\n        accTrend.append(eva[\"accuracy\"])\\n\\n    dictn = {\"x\":kNeighbor, \"y\":accTrend}\\n    thresD[str(d)] = dictn\\n'"
      ]
     },
     "execution_count": 8,
     "metadata": {},
     "output_type": "execute_result"
    }
   ],
   "source": [
    "from sklearn import preprocessing\n",
    "from sklearn.neighbors import KNeighborsClassifier\n",
    "from sklearn.metrics import classification_report\n",
    "import matplotlib.pyplot as plt\n",
    "\n",
    "'''\n",
    "thresD = dict()\n",
    "for d in range(500, 4000, 500):\n",
    "    print(d)\n",
    "    trainFilCopy = trainFil.copy()\n",
    "    testFilCopy = testFil.copy()\n",
    "\n",
    "    # Binarize flight distance on different threshold\n",
    "    dist = trainFilCopy.loc[:, \"Flight Distance\"]\n",
    "    binarizer = pre.Binarizer(threshold=d)\n",
    "    distBi = binarizer.transform([dist]).T\n",
    "    trainFilCopy.loc[:, \"Flight Distance\"] = distBi\n",
    "\n",
    "    dist = testFilCopy.loc[:, \"Flight Distance\"]\n",
    "    binarizer = pre.Binarizer(threshold=d)\n",
    "    distBi = binarizer.transform([dist]).T\n",
    "    testFilCopy.loc[:, \"Flight Distance\"] = distBi\n",
    "    \n",
    "    # KNeighborsClassifier\n",
    "    kNeighbor = []\n",
    "    accTrend = []\n",
    "    for n in range(1, 51):\n",
    "        print(n)\n",
    "        knn = KNeighborsClassifier(n_neighbors=n).fit(trainFilCopy, trainTarget)\n",
    "        pred = knn.predict(testFilCopy)\n",
    "        eva = classification_report(y_true=testTarget, y_pred=pred, output_dict=True)\n",
    "        kNeighbor.append(n)\n",
    "        accTrend.append(eva[\"accuracy\"])\n",
    "\n",
    "    dictn = {\"x\":kNeighbor, \"y\":accTrend}\n",
    "    thresD[str(d)] = dictn\n",
    "'''"
   ]
  },
  {
   "cell_type": "code",
   "execution_count": 9,
   "metadata": {},
   "outputs": [
    {
     "data": {
      "text/plain": [
       "'\\nfor d in range(500, 4000, 500):\\n    plt.plot(thresD[str(d)][\"x\"], thresD[str(d)][\"y\"], label = str(d))\\n    \\nplt.rcParams[\"figure.figsize\"] = (8, 6)  \\nplt.xlabel(\"K-Neighbors\")\\nplt.ylabel(\"Accuracy\")\\nplt.legend()\\nplt.show()\\n'"
      ]
     },
     "execution_count": 9,
     "metadata": {},
     "output_type": "execute_result"
    }
   ],
   "source": [
    "'''\n",
    "for d in range(500, 4000, 500):\n",
    "    plt.plot(thresD[str(d)][\"x\"], thresD[str(d)][\"y\"], label = str(d))\n",
    "    \n",
    "plt.rcParams[\"figure.figsize\"] = (8, 6)  \n",
    "plt.xlabel(\"K-Neighbors\")\n",
    "plt.ylabel(\"Accuracy\")\n",
    "plt.legend()\n",
    "plt.show()\n",
    "'''"
   ]
  },
  {
   "cell_type": "code",
   "execution_count": 11,
   "metadata": {},
   "outputs": [
    {
     "name": "stdout",
     "output_type": "stream",
     "text": [
      "[False False  True]\n"
     ]
    }
   ],
   "source": [
    "import numpy as np\n",
    "a = [True, True, False]\n",
    "b = np.invert(a)\n",
    "print(b)"
   ]
  }
 ],
 "metadata": {
  "interpreter": {
   "hash": "63fd5069d213b44bf678585dea6b12cceca9941eaf7f819626cde1f2670de90d"
  },
  "kernelspec": {
   "display_name": "Python 3.9.0 64-bit",
   "language": "python",
   "name": "python3"
  },
  "language_info": {
   "codemirror_mode": {
    "name": "ipython",
    "version": 3
   },
   "file_extension": ".py",
   "mimetype": "text/x-python",
   "name": "python",
   "nbconvert_exporter": "python",
   "pygments_lexer": "ipython3",
   "version": "3.9.0"
  },
  "orig_nbformat": 4
 },
 "nbformat": 4,
 "nbformat_minor": 2
}
